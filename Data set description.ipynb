{
 "cells": [
  {
   "cell_type": "markdown",
   "metadata": {},
   "source": [
    "### Echocardiogram Data Set"
   ]
  },
  {
   "cell_type": "markdown",
   "metadata": {},
   "source": [
    "Data set on uci:\n",
    "https://archive.ics.uci.edu/ml/datasets/echocardiogram\n",
    "\n",
    "Data set on kaggle:\n",
    "https://www.kaggle.com/loganalive/echocardiogram-uci\n",
    "\n",
    "Paper the data is from: \n",
    "https://www.ncbi.nlm.nih.gov/pmc/articles/PMC1236887/\n",
    "\n",
    "\n",
    "\n",
    "\n",
    "\n",
    "'Short and long term predictive value of admission wall motion score in acute myocardial infarction. A cross sectional echocardiographic study of 345 patients.'\n",
    "\n",
    "Attribute Information:\n",
    "\n",
    "1. survival -- the number of months patient survived (has survived, if patient is still alive). Because all the patients had their heart attacks at different times, it is possible that some patients have survived less than one year but they are still alive. Check the second variable to confirm this. Such patients cannot be used for the prediction task mentioned above. \n",
    "2. still-alive -- a binary variable. 0=dead at end of survival period, 1 means still alive \n",
    "3. age-at-heart-attack -- age in years when heart attack occurred \n",
    "4. pericardial-effusion -- binary. Pericardial effusion is fluid around the heart. 0=no fluid, 1=fluid \n",
    "5. fractional-shortening -- a measure of contracility around the heart lower numbers are increasingly abnormal \n",
    "6. epss -- E-point septal separation, another measure of contractility. Larger numbers are increasingly abnormal. \n",
    "7. lvdd -- left ventricular end-diastolic dimension. This is a measure of the size of the heart at end-diastole. Large hearts tend to be sick hearts. \n",
    "8. wall-motion-score -- a measure of how the segments of the left ventricle are moving \n",
    "9. wall-motion-index -- equals wall-motion-score divided by number of segments seen. Usually 12-13 segments are seen in an echocardiogram. Use this variable INSTEAD of the wall motion score. \n",
    "10. mult -- a derivate var which can be ignored \n",
    "11. name -- the name of the patient (I have replaced them with \"name\") \n",
    "12. group -- meaningless, ignore it \n",
    "13. alive-at-1 -- Boolean-valued. Derived from the first two attributes. 0 means patient was either dead after 1 year or had been followed for less than 1 year. 1 means patient was alive at 1 year.\n",
    "\n",
    "epss : https://www.ncbi.nlm.nih.gov/pubmed/24630604\n",
    "\n",
    "lvdd : https://web.stanford.edu/group/ccm_echocardio/cgi-bin/mediawiki/index.php/Left_ventricle_size\n",
    "\n",
    "Wall-motion: https://academic.oup.com/ejcts/article/35/5/847/464717\n"
   ]
  },
  {
   "cell_type": "markdown",
   "metadata": {},
   "source": [
    "### Breast Cancer"
   ]
  },
  {
   "cell_type": "markdown",
   "metadata": {},
   "source": [
    "Data set on uci: https://archive.ics.uci.edu/ml/datasets/Breast+Cancer+Wisconsin+(Diagnostic)\n",
    "\n",
    "Data set on kaggle: https://www.kaggle.com/uciml/breast-cancer-wisconsin-data\n",
    "\n",
    "Initial Paper: https://pdfs.semanticscholar.org/1c4a/4db612212a9d3806a848854d20da9ddd0504.pdf\n",
    "\n",
    "Breast Masses, Fine Needle Aspiration: https://www.ncbi.nlm.nih.gov/books/NBK470268/\n",
    "\n",
    "Ten real-valued features are computed for each cell nucleus: \n",
    "\n",
    "1. radius (mean of distances from center to points on the perimeter) \n",
    "2. texture (standard deviation of gray-scale values) \n",
    "3. perimeter \n",
    "4. area \n",
    "5. smoothness (local variation in radius lengths) \n",
    "6. compactness (perimeter^2 / area - 1.0) \n",
    "7. concavity (severity of concave portions of the contour) \n",
    "8. concave points (number of concave portions of the contour) \n",
    "9. symmetry \n",
    "10. fractal dimension (\"coastline approximation\" - 1)"
   ]
  },
  {
   "cell_type": "markdown",
   "metadata": {},
   "source": [
    "### Indian Liver Data"
   ]
  },
  {
   "cell_type": "markdown",
   "metadata": {},
   "source": [
    "Data set on uci: https://archive.ics.uci.edu/ml/datasets/ILPD+(Indian+Liver+Patient+Dataset)\n",
    "\n",
    "Data set on kaggle: https://www.kaggle.com/jeevannagaraj/indian-liver-patient-dataset\n",
    "\n",
    "Initial paper: https://pdfs.semanticscholar.org/c137/695d5bf4c5edb0a6e956c06c1d87008cff8e.pdf\n",
    "\n",
    "Data Set Information:\n",
    "\n",
    "This data set contains 416 liver patient records and 167 non liver patient records.The data set was collected from north east of Andhra Pradesh, India. Selector is a class label used to divide into groups(liver patient or not). This data set contains 441 male patient records and 142 female patient records. \n",
    "\n",
    "Any patient whose age exceeded 89 is listed as being of age \"90\".\n",
    "\n",
    "\n",
    "Attribute Information:\n",
    "\n",
    "1. Age\tAge of the patient \n",
    "2. Gender\tGender of the patient \n",
    "3. TB\tTotal Bilirubin \n",
    "4. DB\tDirect Bilirubin \n",
    "5. Alkphos Alkaline Phosphotase \n",
    "6. Sgpt Alamine Aminotransferase \n",
    "7. Sgot Aspartate Aminotransferase \n",
    "8. TP\tTotal Protiens \n",
    "9. ALB\tAlbumin \n",
    "10. A/G Ratio\tAlbumin and Globulin Ratio \n",
    "11. Selector field used to split the data into two sets (labeled by the experts) "
   ]
  },
  {
   "cell_type": "markdown",
   "metadata": {},
   "source": [
    "### Happiness Data Set"
   ]
  },
  {
   "cell_type": "markdown",
   "metadata": {},
   "source": [
    "Data set on kaggle (good description): https://www.kaggle.com/unsdsn/world-happiness/home\n",
    "\n",
    "\n",
    "Happiness Report 2017: http://worldhappiness.report/ed/2017/\n",
    "Happiness Report 2018: https://s3.amazonaws.com/happiness-report/2018/WHR_web.pdf\n",
    "\n",
    "1. Country: Name of the country.\n",
    "2. Region: Region the country belongs to.\n",
    "3. Happiness Rank: Rank of the country based on the Happiness Score.\n",
    "4. Happiness Score: A metric measured in 2015 by asking the sampled people the question: \"How would you rate your happiness on a scale of 0 to 10 where 10 is the happiest.\"\n",
    "5. Standard Error: The standard error of the happiness score.\n",
    "6. Economy (GDP per Capita): The extent to which GDP contributes to the calculation of the Happiness Score.\n",
    "7. Family: The extent to which Family contributes to the calculation of the Happiness Score\n",
    "8. Health (Life Expectancy): The extent to which Life expectancy contributed to the calculation of the Happiness Score\n",
    "9. Freedom: The extent to which Freedom contributed to the calculation of the Happiness Score.\n",
    "10. Trust (Government Corruption): The extent to which Perception of Corruption contributes to Happiness Score.\n",
    "11. Generosity: The extent to which Generosity contributed to the calculation of the Happiness Score.\n",
    "12. Dystopia Residual: The extent to which Dystopia Residual contributed to the calculation of the Happiness Score."
   ]
  },
  {
   "cell_type": "code",
   "execution_count": null,
   "metadata": {},
   "outputs": [],
   "source": []
  }
 ],
 "metadata": {
  "kernelspec": {
   "display_name": "Python 3",
   "language": "python",
   "name": "python3"
  },
  "language_info": {
   "codemirror_mode": {
    "name": "ipython",
    "version": 3
   },
   "file_extension": ".py",
   "mimetype": "text/x-python",
   "name": "python",
   "nbconvert_exporter": "python",
   "pygments_lexer": "ipython3",
   "version": "3.6.4"
  }
 },
 "nbformat": 4,
 "nbformat_minor": 2
}
